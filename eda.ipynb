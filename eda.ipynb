{
 "cells": [
  {
   "cell_type": "markdown",
   "metadata": {
    "vscode": {
     "languageId": "latex"
    }
   },
   "source": [
    "Land and marine-terminating glaciers result in the generation of infrasound waves. Intuitively, we assume that terminating glaciers are a result of changes in climate factors. Therefore, there should be an explanatory relationship between our climate variables and the infrasound signals. Even though there may not be a direct causal relation between the climate variables and the signals, what we imply is that:\n",
    "\n",
    "$$\n",
    "P(\\text{signal}(t) = a \\mid \\text{glacier}(t), \\text{variables}(t)) = P(\\text{signal}(t) = a \\mid \\text{glacier}(t))\n",
    "$$\n",
    "\n",
    "In this dataset, we don't have direct access to quantitative data that can characterize the exact state of terminating glaciers, so we cannot fully verify this. However, we can hypothesize a linear (or monotonic) relationship between glacier activity and the infrasound signals. Hence, we aim to classify whether there is a variation in glacier activity at time \\( t \\) by observing whether the infrasound signal is non-zero at that time.\n",
    "\n",
    "The intuitive threshold is to distinguish between an infrasound signal being zero or non-zero. In the following sections, we will attempt to justify this assumption through statistical analysis of the data.\n"
   ]
  },
  {
   "cell_type": "code",
   "execution_count": 1,
   "metadata": {},
   "outputs": [],
   "source": [
    "import pandas as pd \n",
    "import numpy as np"
   ]
  },
  {
   "cell_type": "code",
   "execution_count": 23,
   "metadata": {},
   "outputs": [],
   "source": [
    "features = pd.read_csv('data_Features.csv')\n",
    "target = pd.read_csv('data_Targets.csv')"
   ]
  },
  {
   "cell_type": "code",
   "execution_count": 24,
   "metadata": {},
   "outputs": [
    {
     "data": {
      "text/plain": [
       "((2556, 11), (2556, 5))"
      ]
     },
     "execution_count": 24,
     "metadata": {},
     "output_type": "execute_result"
    }
   ],
   "source": [
    "features.shape, target.shape"
   ]
  },
  {
   "cell_type": "code",
   "execution_count": 28,
   "metadata": {},
   "outputs": [],
   "source": [
    "features['Y1']=target['Y1']"
   ]
  },
  {
   "cell_type": "code",
   "execution_count": 29,
   "metadata": {},
   "outputs": [
    {
     "data": {
      "text/html": [
       "<div>\n",
       "<style scoped>\n",
       "    .dataframe tbody tr th:only-of-type {\n",
       "        vertical-align: middle;\n",
       "    }\n",
       "\n",
       "    .dataframe tbody tr th {\n",
       "        vertical-align: top;\n",
       "    }\n",
       "\n",
       "    .dataframe thead th {\n",
       "        text-align: right;\n",
       "    }\n",
       "</style>\n",
       "<table border=\"1\" class=\"dataframe\">\n",
       "  <thead>\n",
       "    <tr style=\"text-align: right;\">\n",
       "      <th></th>\n",
       "      <th>time</th>\n",
       "      <th>t2m</th>\n",
       "      <th>u10</th>\n",
       "      <th>v10</th>\n",
       "      <th>SST</th>\n",
       "      <th>SIC</th>\n",
       "      <th>r1_MAR</th>\n",
       "      <th>r2_MAR</th>\n",
       "      <th>r3_MAR</th>\n",
       "      <th>r4_MAR</th>\n",
       "      <th>r5_MAR</th>\n",
       "      <th>Y1</th>\n",
       "    </tr>\n",
       "  </thead>\n",
       "  <tbody>\n",
       "    <tr>\n",
       "      <th>0</th>\n",
       "      <td>2013-01-01</td>\n",
       "      <td>-21.926931</td>\n",
       "      <td>-0.973994</td>\n",
       "      <td>3.149094</td>\n",
       "      <td>-1.690511</td>\n",
       "      <td>90.745710</td>\n",
       "      <td>0.034537</td>\n",
       "      <td>0.033345</td>\n",
       "      <td>0.0</td>\n",
       "      <td>0.0</td>\n",
       "      <td>0.0</td>\n",
       "      <td>0</td>\n",
       "    </tr>\n",
       "    <tr>\n",
       "      <th>1</th>\n",
       "      <td>2013-01-02</td>\n",
       "      <td>-23.696195</td>\n",
       "      <td>-6.502908</td>\n",
       "      <td>2.494894</td>\n",
       "      <td>-1.690511</td>\n",
       "      <td>88.502980</td>\n",
       "      <td>0.034527</td>\n",
       "      <td>0.033326</td>\n",
       "      <td>0.0</td>\n",
       "      <td>0.0</td>\n",
       "      <td>0.0</td>\n",
       "      <td>0</td>\n",
       "    </tr>\n",
       "    <tr>\n",
       "      <th>2</th>\n",
       "      <td>2013-01-03</td>\n",
       "      <td>-25.644027</td>\n",
       "      <td>-3.557411</td>\n",
       "      <td>1.025486</td>\n",
       "      <td>-1.689860</td>\n",
       "      <td>88.734091</td>\n",
       "      <td>0.034523</td>\n",
       "      <td>0.033321</td>\n",
       "      <td>0.0</td>\n",
       "      <td>0.0</td>\n",
       "      <td>0.0</td>\n",
       "      <td>0</td>\n",
       "    </tr>\n",
       "    <tr>\n",
       "      <th>3</th>\n",
       "      <td>2013-01-04</td>\n",
       "      <td>-23.566887</td>\n",
       "      <td>-1.888075</td>\n",
       "      <td>-3.486122</td>\n",
       "      <td>-1.690511</td>\n",
       "      <td>89.149576</td>\n",
       "      <td>0.034509</td>\n",
       "      <td>0.033306</td>\n",
       "      <td>0.0</td>\n",
       "      <td>0.0</td>\n",
       "      <td>0.0</td>\n",
       "      <td>0</td>\n",
       "    </tr>\n",
       "    <tr>\n",
       "      <th>4</th>\n",
       "      <td>2013-01-05</td>\n",
       "      <td>-22.897768</td>\n",
       "      <td>-2.748844</td>\n",
       "      <td>-3.491206</td>\n",
       "      <td>-1.689860</td>\n",
       "      <td>91.613955</td>\n",
       "      <td>0.034492</td>\n",
       "      <td>0.033290</td>\n",
       "      <td>0.0</td>\n",
       "      <td>0.0</td>\n",
       "      <td>0.0</td>\n",
       "      <td>0</td>\n",
       "    </tr>\n",
       "  </tbody>\n",
       "</table>\n",
       "</div>"
      ],
      "text/plain": [
       "         time        t2m       u10       v10       SST        SIC    r1_MAR  \\\n",
       "0  2013-01-01 -21.926931 -0.973994  3.149094 -1.690511  90.745710  0.034537   \n",
       "1  2013-01-02 -23.696195 -6.502908  2.494894 -1.690511  88.502980  0.034527   \n",
       "2  2013-01-03 -25.644027 -3.557411  1.025486 -1.689860  88.734091  0.034523   \n",
       "3  2013-01-04 -23.566887 -1.888075 -3.486122 -1.690511  89.149576  0.034509   \n",
       "4  2013-01-05 -22.897768 -2.748844 -3.491206 -1.689860  91.613955  0.034492   \n",
       "\n",
       "     r2_MAR  r3_MAR  r4_MAR  r5_MAR  Y1  \n",
       "0  0.033345     0.0     0.0     0.0   0  \n",
       "1  0.033326     0.0     0.0     0.0   0  \n",
       "2  0.033321     0.0     0.0     0.0   0  \n",
       "3  0.033306     0.0     0.0     0.0   0  \n",
       "4  0.033290     0.0     0.0     0.0   0  "
      ]
     },
     "execution_count": 29,
     "metadata": {},
     "output_type": "execute_result"
    }
   ],
   "source": [
    "features.head()"
   ]
  },
  {
   "cell_type": "code",
   "execution_count": 30,
   "metadata": {},
   "outputs": [
    {
     "name": "stdout",
     "output_type": "stream",
     "text": [
      "<class 'pandas.core.frame.DataFrame'>\n",
      "RangeIndex: 2556 entries, 0 to 2555\n",
      "Data columns (total 12 columns):\n",
      " #   Column  Non-Null Count  Dtype  \n",
      "---  ------  --------------  -----  \n",
      " 0   time    2556 non-null   object \n",
      " 1   t2m     2556 non-null   float64\n",
      " 2   u10     2556 non-null   float64\n",
      " 3   v10     2556 non-null   float64\n",
      " 4   SST     2556 non-null   float64\n",
      " 5   SIC     2556 non-null   float64\n",
      " 6   r1_MAR  2556 non-null   float64\n",
      " 7   r2_MAR  2556 non-null   float64\n",
      " 8   r3_MAR  2556 non-null   float64\n",
      " 9   r4_MAR  2556 non-null   float64\n",
      " 10  r5_MAR  2556 non-null   float64\n",
      " 11  Y1      2556 non-null   int64  \n",
      "dtypes: float64(10), int64(1), object(1)\n",
      "memory usage: 239.8+ KB\n"
     ]
    }
   ],
   "source": [
    "features.info()"
   ]
  },
  {
   "cell_type": "code",
   "execution_count": 32,
   "metadata": {},
   "outputs": [
    {
     "data": {
      "text/html": [
       "<div>\n",
       "<style scoped>\n",
       "    .dataframe tbody tr th:only-of-type {\n",
       "        vertical-align: middle;\n",
       "    }\n",
       "\n",
       "    .dataframe tbody tr th {\n",
       "        vertical-align: top;\n",
       "    }\n",
       "\n",
       "    .dataframe thead th {\n",
       "        text-align: right;\n",
       "    }\n",
       "</style>\n",
       "<table border=\"1\" class=\"dataframe\">\n",
       "  <thead>\n",
       "    <tr style=\"text-align: right;\">\n",
       "      <th></th>\n",
       "      <th>t2m</th>\n",
       "      <th>u10</th>\n",
       "      <th>v10</th>\n",
       "      <th>SST</th>\n",
       "      <th>SIC</th>\n",
       "      <th>r1_MAR</th>\n",
       "      <th>r2_MAR</th>\n",
       "      <th>r3_MAR</th>\n",
       "      <th>r4_MAR</th>\n",
       "      <th>r5_MAR</th>\n",
       "      <th>Y1</th>\n",
       "    </tr>\n",
       "  </thead>\n",
       "  <tbody>\n",
       "    <tr>\n",
       "      <th>count</th>\n",
       "      <td>2556.000000</td>\n",
       "      <td>2556.000000</td>\n",
       "      <td>2556.000000</td>\n",
       "      <td>2556.000000</td>\n",
       "      <td>2556.000000</td>\n",
       "      <td>2556.000000</td>\n",
       "      <td>2556.000000</td>\n",
       "      <td>2556.000000</td>\n",
       "      <td>2556.000000</td>\n",
       "      <td>2556.000000</td>\n",
       "      <td>2556.000000</td>\n",
       "    </tr>\n",
       "    <tr>\n",
       "      <th>mean</th>\n",
       "      <td>-10.190040</td>\n",
       "      <td>0.139648</td>\n",
       "      <td>0.626351</td>\n",
       "      <td>-0.858922</td>\n",
       "      <td>73.267808</td>\n",
       "      <td>18.789275</td>\n",
       "      <td>11.522362</td>\n",
       "      <td>1.328740</td>\n",
       "      <td>4.382248</td>\n",
       "      <td>5.191286</td>\n",
       "      <td>3.525430</td>\n",
       "    </tr>\n",
       "    <tr>\n",
       "      <th>std</th>\n",
       "      <td>10.340583</td>\n",
       "      <td>5.013640</td>\n",
       "      <td>3.955417</td>\n",
       "      <td>1.446165</td>\n",
       "      <td>29.250724</td>\n",
       "      <td>47.703600</td>\n",
       "      <td>27.942124</td>\n",
       "      <td>3.393452</td>\n",
       "      <td>12.971518</td>\n",
       "      <td>13.406972</td>\n",
       "      <td>18.977537</td>\n",
       "    </tr>\n",
       "    <tr>\n",
       "      <th>min</th>\n",
       "      <td>-32.019122</td>\n",
       "      <td>-13.846656</td>\n",
       "      <td>-12.316128</td>\n",
       "      <td>-1.692462</td>\n",
       "      <td>0.000000</td>\n",
       "      <td>0.000000</td>\n",
       "      <td>0.000000</td>\n",
       "      <td>0.000000</td>\n",
       "      <td>0.000000</td>\n",
       "      <td>0.000000</td>\n",
       "      <td>0.000000</td>\n",
       "    </tr>\n",
       "    <tr>\n",
       "      <th>25%</th>\n",
       "      <td>-19.877500</td>\n",
       "      <td>-3.610168</td>\n",
       "      <td>-2.079422</td>\n",
       "      <td>-1.689860</td>\n",
       "      <td>70.000000</td>\n",
       "      <td>0.123798</td>\n",
       "      <td>0.121437</td>\n",
       "      <td>0.000000</td>\n",
       "      <td>0.000000</td>\n",
       "      <td>0.000000</td>\n",
       "      <td>0.000000</td>\n",
       "    </tr>\n",
       "    <tr>\n",
       "      <th>50%</th>\n",
       "      <td>-9.596479</td>\n",
       "      <td>-0.187084</td>\n",
       "      <td>0.912780</td>\n",
       "      <td>-1.689860</td>\n",
       "      <td>84.601769</td>\n",
       "      <td>0.481870</td>\n",
       "      <td>0.481870</td>\n",
       "      <td>0.000000</td>\n",
       "      <td>0.000000</td>\n",
       "      <td>0.000000</td>\n",
       "      <td>0.000000</td>\n",
       "    </tr>\n",
       "    <tr>\n",
       "      <th>75%</th>\n",
       "      <td>0.167824</td>\n",
       "      <td>3.807440</td>\n",
       "      <td>3.483397</td>\n",
       "      <td>-0.297573</td>\n",
       "      <td>90.362319</td>\n",
       "      <td>4.080174</td>\n",
       "      <td>3.961181</td>\n",
       "      <td>0.004413</td>\n",
       "      <td>0.010148</td>\n",
       "      <td>0.000150</td>\n",
       "      <td>0.000000</td>\n",
       "    </tr>\n",
       "    <tr>\n",
       "      <th>max</th>\n",
       "      <td>7.840619</td>\n",
       "      <td>14.640913</td>\n",
       "      <td>12.811255</td>\n",
       "      <td>6.054536</td>\n",
       "      <td>99.500682</td>\n",
       "      <td>479.722174</td>\n",
       "      <td>281.673389</td>\n",
       "      <td>23.241791</td>\n",
       "      <td>115.876574</td>\n",
       "      <td>88.054318</td>\n",
       "      <td>433.000000</td>\n",
       "    </tr>\n",
       "  </tbody>\n",
       "</table>\n",
       "</div>"
      ],
      "text/plain": [
       "               t2m          u10          v10          SST          SIC  \\\n",
       "count  2556.000000  2556.000000  2556.000000  2556.000000  2556.000000   \n",
       "mean    -10.190040     0.139648     0.626351    -0.858922    73.267808   \n",
       "std      10.340583     5.013640     3.955417     1.446165    29.250724   \n",
       "min     -32.019122   -13.846656   -12.316128    -1.692462     0.000000   \n",
       "25%     -19.877500    -3.610168    -2.079422    -1.689860    70.000000   \n",
       "50%      -9.596479    -0.187084     0.912780    -1.689860    84.601769   \n",
       "75%       0.167824     3.807440     3.483397    -0.297573    90.362319   \n",
       "max       7.840619    14.640913    12.811255     6.054536    99.500682   \n",
       "\n",
       "            r1_MAR       r2_MAR       r3_MAR       r4_MAR       r5_MAR  \\\n",
       "count  2556.000000  2556.000000  2556.000000  2556.000000  2556.000000   \n",
       "mean     18.789275    11.522362     1.328740     4.382248     5.191286   \n",
       "std      47.703600    27.942124     3.393452    12.971518    13.406972   \n",
       "min       0.000000     0.000000     0.000000     0.000000     0.000000   \n",
       "25%       0.123798     0.121437     0.000000     0.000000     0.000000   \n",
       "50%       0.481870     0.481870     0.000000     0.000000     0.000000   \n",
       "75%       4.080174     3.961181     0.004413     0.010148     0.000150   \n",
       "max     479.722174   281.673389    23.241791   115.876574    88.054318   \n",
       "\n",
       "                Y1  \n",
       "count  2556.000000  \n",
       "mean      3.525430  \n",
       "std      18.977537  \n",
       "min       0.000000  \n",
       "25%       0.000000  \n",
       "50%       0.000000  \n",
       "75%       0.000000  \n",
       "max     433.000000  "
      ]
     },
     "execution_count": 32,
     "metadata": {},
     "output_type": "execute_result"
    }
   ],
   "source": [
    "features.describe()"
   ]
  },
  {
   "cell_type": "code",
   "execution_count": 33,
   "metadata": {},
   "outputs": [
    {
     "data": {
      "text/plain": [
       "Y1\n",
       "0      2262\n",
       "1        62\n",
       "2        22\n",
       "6        13\n",
       "5        11\n",
       "       ... \n",
       "38        1\n",
       "26        1\n",
       "47        1\n",
       "84        1\n",
       "100       1\n",
       "Name: count, Length: 89, dtype: int64"
      ]
     },
     "execution_count": 33,
     "metadata": {},
     "output_type": "execute_result"
    }
   ],
   "source": [
    "features['Y1'].value_counts()"
   ]
  },
  {
   "cell_type": "markdown",
   "metadata": {},
   "source": [
    "Out of 2556 observations, 2262 (approximately 88%) of the Y values are zeros. This aligns with the statement from the article: *\"The infrasonic detections mostly occur during the summer months, and the active period generally lasts from the end of June to the beginning of August, peaking in mid-July.\"*\n",
    "\n",
    "From this, we can estimate that glacier activity typically spans 1 to 2 months during the summer, accounting for the remaining 12% of the year.\n"
   ]
  },
  {
   "cell_type": "code",
   "execution_count": 37,
   "metadata": {},
   "outputs": [
    {
     "data": {
      "image/png": "[encoded data removed]",
      "text/plain": [
       "<Figure size 800x600 with 1 Axes>"
      ]
     },
     "metadata": {},
     "output_type": "display_data"
    }
   ],
   "source": [
    "# we can verify this further by plotting the count of non zero Y1's accross the dataset\n",
    "\n",
    "import pandas as pd\n",
    "import matplotlib.pyplot as plt\n",
    "\n",
    "features['time'] = pd.to_datetime(features['time'], format='%Y-%m-%d')\n",
    "\n",
    "features['month'] = features['time'].dt.month\n",
    "\n",
    "monthly_counts = features[features['Y1'] != 0].groupby('month')['Y1'].count()\n",
    "\n",
    "plt.figure(figsize=(8,6))\n",
    "monthly_counts.plot(kind='bar')\n",
    "plt.title('Number of Non-Zero Y1 Counts per Month (Across All Years)')\n",
    "plt.xlabel('Month')\n",
    "plt.ylabel('Count of Non-Zero Y1')\n",
    "plt.xticks(rotation=0)\n",
    "plt.tight_layout()\n",
    "plt.show()\n"
   ]
  },
  {
   "cell_type": "markdown",
   "metadata": {},
   "source": [
    "I hope we justified enough our threshhold for seperation, we will now create a new categorical features that takes either value yes (for presence of signal) or no (for absence of signal)."
   ]
  },
  {
   "cell_type": "code",
   "execution_count": 38,
   "metadata": {},
   "outputs": [],
   "source": [
    "data=features.copy()\n",
    "data['signal'] = data['Y1'].apply(lambda x: 'yes' if x > 0 else 'no')"
   ]
  },
  {
   "cell_type": "markdown",
   "metadata": {},
   "source": [
    "## This is all we can do for the rest (I'll provide an exhaustive list of suggestions, all of which are useful to know and apply):\n",
    "- Try simple logistic regression on just the parameters. Review the mathematics behind logistic regression, the assumptions it makes, and why it is an approach that reduces variance but increases bias (recap the bias-variance tradeoff).\n",
    "- Try logistic regression with basis functions on the parameters (e.g., polynomial, Gaussian, sigmoid) to capture non-linearity.\n",
    "- Add regularization techniques to the regression with basis functions (ridge, lasso, robust). Explain the specific advantages of each and revisit the underlying mathematics.\n",
    "- Use ensemble methods:\n",
    "  1. Review the theory behind decision trees, train a decision tree, and explain the bootstrapping technique.\n",
    "  2. Explain how random forests combine decision trees and bootstrapping. Train a random forest.\n",
    "  3. Review the concept of weak learners, discuss the theory behind gradient boosting, and then train and use an XGBoost model.\n",
    "- Review the theory behind k-fold cross-validation and explain how it helps better estimate true risk (perhaps also explain the relationship between empirical risk and true risk). Mention grid search for hyperparameter tuning.\n",
    "- After training all these models, it's likely that XGBoost will give the best result, potentially around 93% accuracy (give or take). However, we should question whether we are satisfied with this result. The data is highly imbalanced, so a naive model that always predicts \"no signal\" could still achieve 88% accuracy. This highlights the importance of using other metrics beyond accuracy, such as the area under the curve (AUC) or log loss.\n",
    "- We should then explore methods that handle imbalanced data, such as customizing error metrics, data augmentation (though this may not be applicable here), and model calibration.\n",
    "\n",
    "## The following is really extra:\n",
    "- Given the time-dependent nature of the data and the goal of predicting whether a terminating glacier event will occur on a specific day, it may be appropriate to use lagging data (data from previous days) in our predictions. It is intuitive to think that glacier movement events are driven by changes in climate variables rather than the climate variables themselves at a single point in time.\n",
    "- All the models mentioned above are \"discriminative\" models, which estimate $P(\\texttt{Signal}\\,|\\, \\texttt{Features})$. We could also study \"generative\" models that explore the joint distribution of the target and features, i.e., $P(\\texttt{Signal}, \\texttt{Features})$. This approach allows for the study of correlations and causal relationships between variables and between the target and features. Generative models often provide better interpretability.\n"
   ]
  },
  {
   "cell_type": "markdown",
   "metadata": {},
   "source": []
  },
  {
   "cell_type": "markdown",
   "metadata": {},
   "source": [
    "# 1) Logistic Regression"
   ]
  },
  {
   "cell_type": "markdown",
   "metadata": {},
   "source": [
    "The logistic regression model is:\n",
    "\n",
    "$$\n",
    "P(y = 1 \\mid x) = \\sigma(x^\\top \\beta) = \\frac{1}{1 + e^{-(\\beta_0 + \\beta_1 x_1 + \\dots + \\beta_p x_p)}}\n",
    "$$\n",
    "\n",
    "where $ \\sigma $ represents the sigmoid function, mapping the linear combination of inputs to a probability.\n",
    "\n",
    "### Loss Function Used\n",
    "\n",
    "many loss functions can be used in the case of classifications (and in particular binary classifications), for instance, a very intuitive and easy to understand loss function is the binary loss : \n",
    "$$\n",
    "\\text{Denoting } h : \\mathbb{R}^2 \\rightarrow \\{-1, 1\\}, \\text{ the actual risk is given by } \\mathbb{E}_{X,Y} [\\delta_{h(X) \\neq Y}]\n",
    "$$\n",
    "\n",
    "The 0-1 Loss is generally not ideal in machine learning for two main reasons:\n",
    "\n",
    "1. **Non-Differentiability**: The 0-1 Loss assigns a loss of 1 if the prediction is incorrect and 0 if it’s correct, with no gradient information to guide the optimization process. This lack of differentiability makes it unsuitable for gradient-based optimization methods, like those used in neural networks, where we need a smooth, continuous function to compute gradients effectively.\n",
    "\n",
    "2. **Insensitivity to Probability Errors**: The 0-1 Loss only cares about whether a prediction is correct or incorrect. It doesn’t take into account how incorrect the prediction is, so it doesn’t penalize cases where the model is confidently wrong (e.g., predicting 99% for the wrong class vs. 51%). Loss functions like cross-entropy or hinge loss address this by penalizing the model more heavily when it assigns high probabilities to incorrect predictions, encouraging it to be cautious with uncertain cases.\n",
    "\n",
    "In contrast,  Maximum Likelihood Estimation (MLE) (or cross-entropy Loss) is the most popular choice as it tackles perfectly the above two problems . The likelihood function is:\n",
    "\n",
    "$$\n",
    "L(\\beta) = \\prod_{i=1}^n \\left[ \\sigma(x_i^\\top \\beta) \\right]^{y_i} \\left[ 1 - \\sigma(x_i^\\top \\beta) \\right]^{1 - y_i}\n",
    "$$\n",
    "\n",
    "The log-likelihood is maximized:\n",
    "\n",
    "$$\n",
    "\\ell(\\beta) = \\sum_{i=1}^n \\left[ y_i \\log \\sigma(x_i^\\top \\beta) + (1 - y_i) \\log (1 - \\sigma(x_i^\\top \\beta)) \\right]\n",
    "$$\n",
    "\n"
   ]
  },
  {
   "cell_type": "code",
   "execution_count": 6,
   "metadata": {},
   "outputs": [],
   "source": [
    "import pandas as pd \n",
    "import numpy as np\n",
    "features = pd.read_csv('data_Features.csv')\n",
    "target = pd.read_csv('data_Targets.csv')\n",
    "features['signal'] = (target['Y1'] != 0).astype(int)\n",
    "X = features.drop(columns=['signal', 'time'])  \n",
    "y = features['signal'] "
   ]
  },
  {
   "cell_type": "markdown",
   "metadata": {},
   "source": [
    "### Model Scoring Metrics\n",
    "\n",
    "For model scoring, we will use the class below to evaluate the model. While accuracy is a straightforward metric, metrics like **log loss** and **AUC** are often more informative, particularly in imbalanced datasets or probabilistic models. Here’s why:\n",
    "\n",
    "- **Log Loss**: Measures the certainty of probabilistic predictions. It penalizes predictions based on how close the predicted probabilities are to the true labels, so even if a model is “accurate” in terms of correct classifications, log loss will highlight when it’s overconfident or uncertain in its predictions. This makes it especially valuable in scenarios where the confidence level of predictions matters.\n",
    "\n",
    "- **AUC (Area Under the ROC Curve)**: Reflects the model's ability to distinguish between classes, regardless of threshold. AUC is insensitive to class imbalance and provides a more robust assessment of performance compared to accuracy. It helps assess how well the model separates classes over all possible thresholds.\n",
    "\n",
    "- **Accuracy**: While simple to understand, accuracy can be misleading in imbalanced datasets, as it may mask poor performance in the minority class. For example, in a dataset where 90% of instances belong to one class, a model that predicts only the majority class would achieve 90% accuracy without being useful.\n"
   ]
  },
  {
   "cell_type": "markdown",
   "metadata": {},
   "source": [
    "### Real Risk vs. Empirical Risk\n",
    "\n",
    "An essential concept is the distinction between **real risk** (which we can't measure) and **empirical risk** (i.e., loss). Since we operate in a parameterized space (e.g., the space of logistic functions), the empirical risk will generally exceed the real risk due to the introduction of bias. However, when properly calibrated, empirical risk serves as a reasonable approximation of real risk.\n",
    "\n",
    "Empirical risk is a random variable influenced by the subsamples we select for evaluation. To reduce the variance of this random variable and obtain a more stable estimate, we use **cross-validation**.\n"
   ]
  },
  {
   "cell_type": "code",
   "execution_count": 4,
   "metadata": {},
   "outputs": [],
   "source": [
    "from sklearn.model_selection import cross_validate\n",
    "\n",
    "class ScoreBoard:\n",
    "    '''\n",
    "    Scoreboard that evaluates different methods for a given experiment and collect\n",
    "    evaluation scores into a Pandas dataframe.\n",
    "    '''\n",
    "    def __init__(self, scoring_functions={'acc' : 'accuracy', 'auc': 'roc_auc', 'logL': 'neg_log_loss'}, n_folds=10):\n",
    "        '''\n",
    "        Constructor\n",
    "        \n",
    "        - scoring_functions: dict of scoring functions (name mapped to a scoring function or scikit score name)\n",
    "        - n_folds: default number of folds for cross-validation\n",
    "        '''\n",
    "        self.scoring_functions = scoring_functions\n",
    "        self.score_names = list(scoring_functions.keys())\n",
    "        self.scores = None\n",
    "        self.n_folds = n_folds\n",
    "        \n",
    "    def _repr_html_(self):\n",
    "        '''\n",
    "        Convert object to an HTML representation (called by Jupyter notebook)\n",
    "        '''\n",
    "        if self.scores is not None:\n",
    "            return self.scores._repr_html_()\n",
    "        else:\n",
    "            return \"No scores available\"\n",
    "    \n",
    "    def test(self, name, clf, X, Y, n_folds=None):\n",
    "        '''\n",
    "        Cross-validate a classifier\n",
    "        '''\n",
    "        if n_folds is None:\n",
    "            n_folds = self.n_folds\n",
    "        res  = cross_validate(clf, X, Y, cv=self.n_folds, scoring=self.scoring_functions, error_score='raise')\n",
    "\n",
    "        entry = { score_name: np.mean(res[f'test_{score_name}']) for score_name in self.score_names }\n",
    "        entry['classifier'] = name\n",
    "        self.scores = pd.concat([self.scores, pd.DataFrame([entry], columns= [ 'classifier' ] + self.score_names)], ignore_index=True)\n"
   ]
  },
  {
   "cell_type": "code",
   "execution_count": 7,
   "metadata": {},
   "outputs": [
    {
     "name": "stdout",
     "output_type": "stream",
     "text": [
      "            classifier       acc       auc      logL\n",
      "0  Logistic Regression  0.941697  0.832172 -0.208888\n"
     ]
    }
   ],
   "source": [
    "from sklearn.linear_model import LogisticRegression\n",
    "\n",
    "clf = LogisticRegression(max_iter=1000)\n",
    "scoreboard = ScoreBoard()\n",
    "\n",
    "scoreboard.test(name=\"Logistic Regression\", clf=clf, X=X, Y=y)\n",
    "\n",
    "print(scoreboard.scores)"
   ]
  },
  {
   "cell_type": "code",
   "execution_count": 14,
   "metadata": {},
   "outputs": [
    {
     "name": "stdout",
     "output_type": "stream",
     "text": [
      "Precision: 0.938\n",
      "Recall: 0.942\n",
      "F1 Score: 0.938\n",
      "Accuracy: 0.942\n"
     ]
    },
    {
     "data": {
      "image/png": "[encoded data removed]",
      "text/plain": [
       "<Figure size 800x600 with 2 Axes>"
      ]
     },
     "metadata": {},
     "output_type": "display_data"
    },
    {
     "name": "stdout",
     "output_type": "stream",
     "text": [
      "            classifier       acc       auc      logL\n",
      "0  Logistic Regression  0.941697  0.832172 -0.208888\n"
     ]
    }
   ],
   "source": [
    "import numpy as np\n",
    "import pandas as pd\n",
    "from sklearn.model_selection import cross_val_predict\n",
    "from sklearn.metrics import confusion_matrix\n",
    "import matplotlib.pyplot as plt\n",
    "import seaborn as sns\n",
    "\n",
    "class ScoreBoard:\n",
    "    '''\n",
    "    Scoreboard that evaluates different methods for a given experiment and collects\n",
    "    evaluation scores into a Pandas dataframe.\n",
    "    '''\n",
    "    def __init__(self, scoring_functions={'acc': 'accuracy', 'auc': 'roc_auc', 'logL': 'neg_log_loss'}, n_folds=10):\n",
    "        self.scoring_functions = scoring_functions\n",
    "        self.score_names = list(scoring_functions.keys())\n",
    "        self.scores = None\n",
    "        self.n_folds = n_folds\n",
    "        \n",
    "    def _repr_html_(self):\n",
    "        if self.scores is not None:\n",
    "            return self.scores._repr_html_()\n",
    "        else:\n",
    "            return \"No scores available\"\n",
    "    \n",
    "    def test(self, name, clf, X, Y, n_folds=None):\n",
    "        if n_folds is None:\n",
    "            n_folds = self.n_folds\n",
    "        res = cross_validate(clf, X, Y, cv=self.n_folds, scoring=self.scoring_functions, error_score='raise')\n",
    "        \n",
    "        entry = {score_name: np.mean(res[f'test_{score_name}']) for score_name in self.score_names}\n",
    "        entry['classifier'] = name\n",
    "        self.scores = pd.concat([self.scores, pd.DataFrame([entry], columns=['classifier'] + self.score_names)], ignore_index=True)\n",
    "\n",
    "    def test_with_confusion_matrix(self, name, clf, X, Y):\n",
    "        labels = np.unique(Y)  # Get unique classes directly from Y\n",
    "        predictions = cross_val_predict(clf, X, Y, cv=self.n_folds)\n",
    "        conf_matrix = confusion_matrix(Y, predictions, labels=labels)\n",
    "        \n",
    "        plt.figure(figsize=(8, 6))\n",
    "        sns.heatmap(conf_matrix, annot=True, fmt='d', cmap='Blues', xticklabels=labels, yticklabels=labels)\n",
    "        plt.xlabel('Predicted Labels')\n",
    "        plt.ylabel('True Labels')\n",
    "        plt.title(f'Confusion Matrix (Averaged across {self.n_folds} folds) for {name}')\n",
    "        plt.show()\n",
    "\n",
    "\n",
    "# Example usage\n",
    "clf = LogisticRegression(max_iter=1000)\n",
    "scoreboard = ScoreBoard()\n",
    "\n",
    "scoreboard.test(name=\"Logistic Regression\", clf=clf, X=X, Y=y)\n",
    "scoreboard.test_with_confusion_matrix(name=\"Logistic Regression\", clf=clf, X=X, Y=y)\n",
    "\n",
    "print(scoreboard.scores)\n"
   ]
  },
  {
   "cell_type": "code",
   "execution_count": 13,
   "metadata": {},
   "outputs": [
    {
     "data": {
      "text/plain": [
       "signal\n",
       "0    2262\n",
       "1     294\n",
       "Name: count, dtype: int64"
      ]
     },
     "execution_count": 13,
     "metadata": {},
     "output_type": "execute_result"
    }
   ],
   "source": [
    "features['signal'].value_counts()"
   ]
  }
 ],
 "metadata": {
  "kernelspec": {
   "display_name": "Python 3",
   "language": "python",
   "name": "python3"
  },
  "language_info": {
   "codemirror_mode": {
    "name": "ipython",
    "version": 3
   },
   "file_extension": ".py",
   "mimetype": "text/x-python",
   "name": "python",
   "nbconvert_exporter": "python",
   "pygments_lexer": "ipython3",
   "version": "3.11.9"
  }
 },
 "nbformat": 4,
 "nbformat_minor": 2
}
